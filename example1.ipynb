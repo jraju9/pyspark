from ace import acespark
sc, sqlContext= acespark.init(master='local[10]', version=2.1, name='example', queue='long', driver_memory='8g', \
                              executor_memory='1g', executors=20, executor_cores=2, conf={'spark.ui.port': 4610})
